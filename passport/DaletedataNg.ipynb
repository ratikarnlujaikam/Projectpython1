{
 "cells": [
  {
   "cell_type": "code",
   "execution_count": 1,
   "metadata": {},
   "outputs": [],
   "source": [
    "import pyodbc\n",
    "server = '192.168.101.219'\n",
    "database = 'DataforAnalysis'\n",
    "username = 'DATALYZER'\n",
    "password = 'NMB54321'\n",
    "driver = '{SQL Server}'\n",
    "\n",
    "    # Establish a connection to the database\n",
    "conn_str = f'DRIVER={driver};SERVER={server};DATABASE={database};UID={username};PWD={password}'\n",
    "\n",
    "\n",
    "# เชื่อมต่อกับฐานข้อมูล\n",
    "connection = pyodbc.connect(conn_str)\n",
    "cursor = connection.cursor()\n",
    "\n",
    "# สร้างคำสั่ง SQL สำหรับการลบข้อมูล\n",
    "delete_queries = [\n",
    "    \"DELETE FROM [DataforAnalysis].[dbo].[Dynamic_Parallelism_Tester] WHERE [Barcode] LIKE 'NG%'\",\n",
    "    \"DELETE FROM [DataforAnalysis].[dbo].[EWMS] WHERE [Barcode] LIKE 'NG%'\",\n",
    "    \"DELETE FROM [DataforAnalysis].[dbo].[Hipot] WHERE [Barcode] LIKE 'NG%'\"\n",
    "]\n",
    "\n",
    "try:\n",
    "    # ทำการลบข้อมูล\n",
    "    for query in delete_queries:\n",
    "        cursor.execute(query)\n",
    "\n",
    "    # ยืนยันการทำรายการและปิดการเชื่อมต่อ\n",
    "    connection.commit()\n",
    "\n",
    "except Exception as e:\n",
    "    # กรณีเกิดข้อผิดพลาด\n",
    "    print(f\"เกิดข้อผิดพลาด: {str(e)}\")\n",
    "    connection.rollback()\n",
    "\n",
    "finally:\n",
    "    # ปิดการเชื่อมต่อ\n",
    "    cursor.close()\n",
    "    connection.close()\n"
   ]
  }
 ],
 "metadata": {
  "kernelspec": {
   "display_name": "Python 3",
   "language": "python",
   "name": "python3"
  },
  "language_info": {
   "codemirror_mode": {
    "name": "ipython",
    "version": 3
   },
   "file_extension": ".py",
   "mimetype": "text/x-python",
   "name": "python",
   "nbconvert_exporter": "python",
   "pygments_lexer": "ipython3",
   "version": "3.12.2"
  }
 },
 "nbformat": 4,
 "nbformat_minor": 2
}
